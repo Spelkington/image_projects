{
 "cells": [
  {
   "cell_type": "code",
   "execution_count": 1,
   "metadata": {},
   "outputs": [],
   "source": [
    "import numpy as np\n",
    "import cv2 as cv\n",
    "import matplotlib.pyplot as plt"
   ]
  },
  {
   "cell_type": "code",
   "execution_count": 2,
   "metadata": {},
   "outputs": [],
   "source": [
    "black_fil = np.array([\n",
    "    [0, 0, 0],\n",
    "    [0, 0, 0],\n",
    "    [0, 0, 0]\n",
    "])\n",
    "\n",
    "nothing_fil = np.array([\n",
    "    [1, 1, 1],\n",
    "    [1, 1, 1],\n",
    "    [1, 1, 1],\n",
    "])\n",
    "\n",
    "hori_edge_fil = np.array([\n",
    "    [1, 2, 3],\n",
    "    [0, 2, 4],\n",
    "    [1, 2, 3]\n",
    "])\n",
    "\n",
    "large_fil = np.array([\n",
    "    [0, 1, 2, 1, 0],\n",
    "    [1, 2, 3, 2, 1],\n",
    "    [2, 3, 4, 3, 2],\n",
    "    [1, 2, 3, 4, 3],\n",
    "    [0, 1, 2, 1, 0]\n",
    "])"
   ]
  },
  {
   "cell_type": "code",
   "execution_count": 3,
   "metadata": {},
   "outputs": [],
   "source": [
    "def apply_filter_to_pixel(img, fil, x, y):\n",
    "    fil_ht, fil_wd = fil.shape\n",
    "    img_ht, img_wd = img.shape\n",
    "    \n",
    "    fil_yrd = int((fil_ht - 1) / 2)\n",
    "    fil_xrd = int((fil_wd - 1) / 2)\n",
    "    \n",
    "    # print(\"Filter radii: (%i, %i)\" % (fil_xrd, fil_yrd))\n",
    "    \n",
    "    weight = 0\n",
    "    value = 0\n",
    "    \n",
    "    filtered_value = 0\n",
    "    \n",
    "    for x_i in range(-1 * fil_xrd, fil_xrd + 1):\n",
    "        \n",
    "        # Select which pixel we're looking at on the image\n",
    "        img_x = x + x_i\n",
    "        \n",
    "        # Select which pixel we're looking at on the filter\n",
    "        fil_x = 0 + x_i\n",
    "        \n",
    "        # Do not check OOB\n",
    "        if img_x not in range(0, img_wd):\n",
    "            continue\n",
    "        \n",
    "        for y_i in range (-1 * fil_yrd, fil_yrd + 1):\n",
    "            \n",
    "            # Select which pixel we're looking at on the image\n",
    "            img_y = y + y_i\n",
    "\n",
    "            # Select which pixel we're looking at on the filter\n",
    "            fil_y = 0 + y_i\n",
    "            \n",
    "            # Do not check OOB\n",
    "            if img_y not in range(0, img_ht):\n",
    "                continue\n",
    "               \n",
    "            # print(\"Applying (%i, %i) in filter space to (%i, %i) in image space\" % (fil_x, fil_y, img_x, img_y))\n",
    "            \n",
    "            # Get the pixel value from the image, and the weight value from the filter.\n",
    "            fil_val = fil[fil_y, fil_x]\n",
    "            img_val = img[img_y, img_x]\n",
    "            \n",
    "            # Add the product of the pixel value and weight to the filtered value.\n",
    "            filtered_value = filtered_value + (fil_val * img_val)\n",
    "            \n",
    "            # Track the weight of this addition.\n",
    "            weight = weight + np.abs(fil_val)\n",
    "            \n",
    "    # print(\"Total adjustment weight: %i\" % weight)\n",
    "    \n",
    "    # If no filtering occurred, return the only possible answer: 0.\n",
    "    if weight == 0:\n",
    "        return 0;\n",
    "    \n",
    "    # Take the weighted average of the filtered value.\n",
    "    filtered_value = int(filtered_value / weight)\n",
    "    \n",
    "    return filtered_value"
   ]
  },
  {
   "cell_type": "code",
   "execution_count": 4,
   "metadata": {},
   "outputs": [],
   "source": [
    "def apply_filter(img, fil):\n",
    "    img_y, img_x = img.shape\n",
    "    \n",
    "    result_img = np.ndarray(img.shape, np.uint8)\n",
    "    \n",
    "    for y in range(img_y):\n",
    "        for x in range(img_x):\n",
    "            result_img[y, x] = apply_filter_to_pixel(img, fil, x, y)\n",
    "            \n",
    "    return result_img"
   ]
  },
  {
   "cell_type": "code",
   "execution_count": null,
   "metadata": {},
   "outputs": [],
   "source": [
    "img = cv.imread('hyrule.png', cv.IMREAD_GRAYSCALE)\n",
    "\n",
    "apply_filter(img, hori_edge_fil)"
   ]
  },
  {
   "cell_type": "code",
   "execution_count": null,
   "metadata": {},
   "outputs": [],
   "source": []
  }
 ],
 "metadata": {
  "kernelspec": {
   "display_name": "Python 3",
   "language": "python",
   "name": "python3"
  },
  "language_info": {
   "codemirror_mode": {
    "name": "ipython",
    "version": 3
   },
   "file_extension": ".py",
   "mimetype": "text/x-python",
   "name": "python",
   "nbconvert_exporter": "python",
   "pygments_lexer": "ipython3",
   "version": "3.7.1"
  }
 },
 "nbformat": 4,
 "nbformat_minor": 2
}
