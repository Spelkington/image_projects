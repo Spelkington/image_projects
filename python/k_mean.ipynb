{
 "cells": [
  {
   "cell_type": "code",
   "execution_count": 1,
   "metadata": {},
   "outputs": [],
   "source": [
    "import sys\n",
    "import cv2 as cv\n",
    "import numpy as np\n",
    "import matplotlib.pyplot as plt"
   ]
  },
  {
   "cell_type": "code",
   "execution_count": 2,
   "metadata": {},
   "outputs": [],
   "source": [
    "def round_channels(img, threshold):\n",
    "    x_size, y_size, num_channels = img.shape\n",
    "    \n",
    "    for i in range(x_size):\n",
    "        for j in range(y_size):\n",
    "            for c in range(num_channels):\n",
    "                \n",
    "                # Round each number to either 0 or 255, depending on the value of this channel.\n",
    "                cur_val = img[i,j,c]\n",
    "                new_val = 0\n",
    "                \n",
    "                if cur_val >= threshold:\n",
    "                    new_val = 255\n",
    "                    \n",
    "                img[i, j, c] = new_val"
   ]
  },
  {
   "cell_type": "code",
   "execution_count": 19,
   "metadata": {},
   "outputs": [],
   "source": [
    "def pix_sqrd_distance(rpix, lpix):\n",
    "    ''' Finds the vector distance between two pixels.'''\n",
    "    \n",
    "    dist_sqrd = (rpix[0]-lpix[0])**2 + (rpix[1]-lpix[1])**2 + \n",
    "                (rpix[2]-lpix[2])**2\n",
    "    \n",
    "    return dist_sqrd\n",
    "\n",
    "def find_average_pixel(pix_array):\n",
    "    '''Given an array or list of pixels, finds the average pixel of that group.'''\n",
    "    \n",
    "    avg_pix = [0,0,0]\n",
    "    \n",
    "    for pixel in pix_array:\n",
    "        \n",
    "        for i in range(3):\n",
    "            avg_pix[i] = avg_pix[i] + pixel[i]\n",
    "            \n",
    "    for i in range(len(avg_pix)):\n",
    "        avg_pix[i] = avg_pix[i] / len(pix_array)\n",
    "        \n",
    "    return np.array(avg_pix, np.uint8)\n",
    "\n",
    "def get_starter_palette(img, n):\n",
    "    x_size, y_size, n_channels = img.shape\n",
    "    partition_value = np.ceil()\n",
    "\n",
    "def img_to_kmean(img, k, iterations):\n",
    "    ''' Converts an image array to a k-means generated array and key set. K-Means is a method used to find k averages\n",
    "    that are representative of a set. Each set item is closest to one of these means, functionally separating the data\n",
    "    into k different clusters.\n",
    "    \n",
    "    This method takes in an image, a number of clusters, and a number of iterations. Using k-means, the image will be\n",
    "    compressed into k types of pixels. A key with the means, and an array with the corresponding key value of each pixel\n",
    "    is returned.'''\n",
    "    \n",
    "    x_size, y_size, n_channels = img.shape\n",
    "    \n",
    "    centroids = []\n",
    "    \n",
    "    # Create some starter means. These will be selected at even intervals throughout the image\n",
    "    for _ in range(k):\n",
    "        new_centroid = img[\n",
    "                            np.random.randint(0, x_size),\n",
    "                            np.random.randint(0, y_size)\n",
    "                          ]\n",
    "        centroids.append(new_centroid)\n",
    "        \n",
    "    \n",
    "    # Create a numpy array to store results.\n",
    "    result = np.zeros((x_size, y_size), np.uint8)\n",
    "\n",
    "    # Because k-means is an iterative process, we'll iterate the mean generation some amount of times.\n",
    "    for iter in range(iterations):\n",
    "        \n",
    "        print(\"Beginning iteration %i\" % iter)\n",
    "        \n",
    "        # Create a list to contain k groups\n",
    "        groups = []\n",
    "        \n",
    "        # add empty lists for each group.\n",
    "        for m in range(len(centroids)):\n",
    "            groups.append([])\n",
    "        \n",
    "        # group each pixel by which mean they're closest to\n",
    "        for i in range(x_size):\n",
    "            \n",
    "            for j in range(y_size):\n",
    "                \n",
    "                curr_pixel = img[i,j]\n",
    "                \n",
    "                i_closest = 0\n",
    "                dist_closest = 9999\n",
    "                \n",
    "                for c, cent in enumerate(centroids):\n",
    "                    dist_to_pix = pix_sqrd_distance(cent, curr_pixel)\n",
    "                    \n",
    "                    if dist_to_pix < dist_closest:\n",
    "                        i_closest = c\n",
    "                        dist_closest = dist_to_pix\n",
    "                        \n",
    "                #print(\"(%i, %i) set to %i\" % (i, j, i_closest))\n",
    "                        \n",
    "                groups[i_closest].append(curr_pixel)\n",
    "                result[i,j] = i_closest\n",
    "                \n",
    "        for i, group in enumerate(groups):\n",
    "            if len(group) > 0:\n",
    "                centroids[i] = find_average_pixel(group)\n",
    "                \n",
    "        print(\"Iteration %i complete\" % iter)\n",
    "            \n",
    "    return (np.array(centroids), result)\n",
    "\n",
    "\n",
    "def kmean_to_img(key, data):\n",
    "    \n",
    "    x_size, y_size = data.shape\n",
    "    \n",
    "    result = np.zeros((x_size, y_size, 3), np.uint8)\n",
    "    \n",
    "    for i in range(x_size):\n",
    "        for j in range(y_size):\n",
    "            \n",
    "            result[i,j] = key[data[i,j]]\n",
    "            \n",
    "    return result"
   ]
  },
  {
   "cell_type": "code",
   "execution_count": 20,
   "metadata": {
    "scrolled": false
   },
   "outputs": [
    {
     "name": "stdout",
     "output_type": "stream",
     "text": [
      "Beginning iteration 0\n"
     ]
    },
    {
     "name": "stderr",
     "output_type": "stream",
     "text": [
      "/home/spelkington/Repos/anaconda3/lib/python3.7/site-packages/ipykernel_launcher.py:4: RuntimeWarning: overflow encountered in ubyte_scalars\n",
      "  after removing the cwd from sys.path.\n"
     ]
    },
    {
     "name": "stdout",
     "output_type": "stream",
     "text": [
      "Iteration 0 complete\n",
      "Beginning iteration 1\n",
      "Iteration 1 complete\n",
      "Beginning iteration 2\n",
      "Iteration 2 complete\n",
      "Beginning iteration 3\n",
      "Iteration 3 complete\n",
      "Beginning iteration 4\n",
      "Iteration 4 complete\n",
      "Beginning iteration 5\n",
      "Iteration 5 complete\n",
      "Beginning iteration 6\n",
      "Iteration 6 complete\n",
      "Beginning iteration 7\n",
      "Iteration 7 complete\n",
      "Original image size:\t 12288\n",
      "Compressed image size:\t 4192\n",
      "Compression percent: 65.885417.2\n"
     ]
    },
    {
     "data": {
      "image/png": "[encoded data removed]",
      "text/plain": [
       "<Figure size 432x288 with 2 Axes>"
      ]
     },
     "metadata": {
      "needs_background": "light"
     },
     "output_type": "display_data"
    }
   ],
   "source": [
    "# Load in the image.\n",
    "img = cv.imread('hyrule_small.png')\n",
    "\n",
    "key, data = img_to_kmean(img, 32, 8)\n",
    "\n",
    "recreated = kmean_to_img(key, data)\n",
    "\n",
    "print(\"Original image size:\\t %i\" % img.size)\n",
    "print(\"Compressed image size:\\t %i\" % (key.size + data.size))\n",
    "\n",
    "compression_ratio = 100 - 100 * ((0.0 + key.size + data.size) / img.size)\n",
    "\n",
    "print(\"Compression percent: %f.2\" % compression_ratio)\n",
    "\n",
    "plt.subplot(121), plt.imshow(cv.cvtColor(recreated, cv.COLOR_BGR2RGB))\n",
    "plt.subplot(122), plt.imshow(cv.cvtColor(img, cv.COLOR_BGR2RGB))\n",
    "plt.show()"
   ]
  },
  {
   "cell_type": "code",
   "execution_count": null,
   "metadata": {},
   "outputs": [],
   "source": []
  }
 ],
 "metadata": {
  "kernelspec": {
   "display_name": "Python 3",
   "language": "python",
   "name": "python3"
  },
  "language_info": {
   "codemirror_mode": {
    "name": "ipython",
    "version": 3
   },
   "file_extension": ".py",
   "mimetype": "text/x-python",
   "name": "python",
   "nbconvert_exporter": "python",
   "pygments_lexer": "ipython3",
   "version": "3.7.1"
  }
 },
 "nbformat": 4,
 "nbformat_minor": 2
}
